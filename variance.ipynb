{
 "cells": [
  {
   "cell_type": "markdown",
   "id": "ae4e4ee3-c398-4dfc-9ac2-c20a15cd2842",
   "metadata": {},
   "source": [
    "# Derivation for the Time delay Variance"
   ]
  },
  {
   "cell_type": "markdown",
   "id": "16b19cad-8f74-4cfb-98f4-129b764745bd",
   "metadata": {},
   "source": [
    "We start with the Fermat potential of a continuous lens at a single redshift $z_L$, assuming continuous/infinite images of the same single source"
   ]
  },
  {
   "cell_type": "markdown",
   "id": "d624f86e-9162-498c-bae6-1939ff847bb2",
   "metadata": {},
   "source": [
    "$$\n",
    "\\tau({\\bm \\theta}) = \n",
    "\\frac{1}{2}|{\\bm \\alpha}|^2 - \\psi(\\bm{\\theta})\n",
    "$$\n",
    "where ${\\bm \\alpha} = \\nabla_{\\bm \\theta}\\psi$ is the deflection angle and $\\bm{\\alpha} = \\bm{\\theta}-\\bm{\\beta}$, and $\\psi$ is the lensing potential:\n",
    "$$\n",
    "\\psi({\\bm \\theta}) = \\frac{1}{\\pi} \\int \\mathrm{d}^2{\\bm \\theta}'\\kappa({\\bm \\theta}') \\ln|{\\bm \\theta} - {\\bm\\theta'}|\n",
    "$$"
   ]
  },
  {
   "cell_type": "markdown",
   "id": "43a110ac-bc33-4507-aa3d-d7b65abe3ba3",
   "metadata": {},
   "source": [
    "Now, we can see a known term $\\kappa$, ___lensing convergence___. It is the projected mass overdensity in weak lensing, or less rigorously, magnification. The projected power spectrum of $\\kappa$, $C_\\kappa(\\ell)$, is one of the most important terms in weak lensing studies, is theoretically computable under any $\\Lambda$CDM cosmology setup."
   ]
  },
  {
   "cell_type": "markdown",
   "id": "99c3bf18-73b2-431e-9564-1bec810c4ad0",
   "metadata": {},
   "source": [
    "Therefore, $C_\\psi(\\ell)$ is also computable as:\n",
    "$$\n",
    "\\psi = \\frac{1}{\\pi}\\kappa * \\ln|\\bm{\\theta}|\n",
    "$$\n",
    "Let's Fourier:\n",
    "$$\n",
    "\\tilde\\psi(\\ell) = -\\frac{2}{\\ell^2}\\tilde\\kappa(\\ell)\n",
    "$$\n",
    "Therefore:\n",
    "$$\n",
    "C_\\psi(\\ell) = \\frac{4}{\\ell^4}C_\\kappa(\\ell)\n",
    "$$"
   ]
  },
  {
   "cell_type": "markdown",
   "id": "aecce52a-296e-4573-bb6e-c4984ccb35e1",
   "metadata": {},
   "source": [
    "Now let's take care of $\\alpha$. Under the same logic, one can easily see:\n",
    "$$\n",
    "C_\\alpha(\\ell) = \\ell^2C_\\psi(\\ell) = \\frac{4}{\\ell^2}C_\\kappa(\\ell)\n",
    "$$\n",
    "However, this easiness fades away when we come to the $b = |\\alpha|^2$:\n",
    "$$\n",
    "\\tilde{b}(\\ell) = \\iint\\dfrac{\\mathrm{d}^2\\ell'}{4\\pi^2}\\tilde\\alpha(\\ell')\\tilde\\alpha(\\ell - \\ell').\n",
    "$$\n",
    "Therefore:\n",
    "$$\n",
    "\\begin{aligned}\n",
    "\\langle b(\\ell)b^*(\\ell') \\rangle \n",
    "&= 4\\pi^2\\delta_D(\\ell - \\ell')C_b(\\ell) \\\\ \n",
    "&= \\iint\\iint\\dfrac{\\mathrm{d}^2\\ell_1\\mathrm{d}^2\\ell_2}{16\\pi^4}\n",
    "\\langle\\tilde{a}(\\ell_1)\\tilde{a}(\\ell - \\ell_1)\\tilde{a}(\\ell_2)\\tilde{a}(\\ell' - \\ell_2)\\rangle\n",
    "\\end{aligned}\n",
    "$$\n",
    "where the final four-term $\\langle\\rangle$ term can be viewed as a trispectrum of $\\alpha$. It's, still, computable from the trispectrum of $\\kappa$. However, even this $\\kappa$ term is super hard to predict. Let's irresponsibly use a Gaussian approximation on |$\\alpha$| to reduce the calculation with Wick expansion:\n",
    "$$\n",
    "\\langle abcd \\rangle = \\langle ab \\rangle\\langle cd \\rangle + \\langle ac \\rangle\\langle bd \\rangle + \\langle ad \\rangle\\langle bc \\rangle.\n",
    "$$\n",
    "By symmetry and removing non-connecting terms, we would get\n",
    "$$\n",
    "C_{|\\alpha|^2}(\\ell) = 2\\iint\\dfrac{\\mathrm{d}^2\\ell'}{4\\pi^2}C_{\\alpha}(\\ell')C_{\\alpha}(\\ell - \\ell')\n",
    "$$"
   ]
  },
  {
   "cell_type": "markdown",
   "id": "cbeddf0b-e986-479e-92e3-10118efb4bc0",
   "metadata": {},
   "source": [
    "Let's assemble $\\tau$:\n",
    "$$\n",
    "\\tau({\\bm \\theta}) = \n",
    "\\frac{1}{2}|{\\bm \\alpha}|^2 - \\psi(\\bm{\\theta})\n",
    "$$\n",
    "or\n",
    "$$\n",
    "\\tilde{\\tau}(\\ell) = \\frac{1}{2}\\tilde{b}(\\ell) - \\tilde\\psi(\\ell).\n",
    "$$\n",
    "In terms of power, it turns to be\n",
    "$$\n",
    "\\begin{aligned}\n",
    "\\langle \\tilde\\tau\\tilde\\tau^* \\rangle &= \\frac{1}{4}\\langle \\tilde{b} \\tilde{b}^*\\rangle + \\langle \\tilde\\psi\\tilde\\psi^* \\rangle \\\\\n",
    "&+ \\frac{1}{2}\\big[\\langle \\tilde{b} \\tilde{\\psi}^*\\rangle+\\langle \\tilde{\\psi} \\tilde{b}^*\\rangle \\big]\n",
    "\\end{aligned}\n",
    "$$\n",
    "Note that the later two $\\langle \\rangle$ terms $\\propto \\langle\\psi^3\\rangle$. As we have already been seduced by the charm of the Gaussian Approximation, which is indeed a good approximation of $\\kappa$ field, let's ignore them at the current stage."
   ]
  },
  {
   "cell_type": "markdown",
   "id": "33d920e3-6b7c-4fbf-aadc-a4b236352562",
   "metadata": {},
   "source": [
    "Therefore, \n",
    "$$\n",
    "\\begin{aligned}\n",
    "C_\\tau(\\ell) &= \\frac{1}{4}C_{|\\alpha|^2}(\\ell) + C_{\\psi}(\\ell) \\\\\n",
    "&= \\frac{1}{2}\\iint\\dfrac{\\mathrm{d}^2\\ell'}{4\\pi^2}\\frac{4}{\\ell'^2}C_\\kappa(\\ell')\\frac{4}{(\\ell - \\ell')^2}C_{\\kappa}(\\ell - \\ell') + \\frac{4}{\\ell^4}C_{\\kappa}(\\ell) \\\\\n",
    "&= 8\\iint\\dfrac{\\mathrm{d}^2\\ell'}{4\\pi^2\\ell'^2(\\ell - \\ell')^2}C_\\kappa(\\ell')C_{\\kappa}(\\ell - \\ell') + \\frac{4}{\\ell^4}C_{\\kappa}(\\ell)\n",
    "\\end{aligned}\n",
    "$$"
   ]
  },
  {
   "cell_type": "markdown",
   "id": "6bdb8838-0e43-4db8-a3e7-9c4ff053db03",
   "metadata": {},
   "source": [
    "Ok, final step. Let's measure the variance of the $\\Delta t$:\n",
    "$$\n",
    "\\Delta t= (1+z_L)\\frac{D_lD_s}{cD_{ls}}\\tau\n",
    "$$\n",
    "So:\n",
    "$$\n",
    "\\mathrm{Var}(\\Delta t) = (1+z_L)^2\\left(\\frac{D_lD_s}{cD_{ls}}\\right)^2\\mathrm{Var}(\\tau)\n",
    "$$\n",
    "under the previously mentioned ___SINGLE-LENS-PLANE___ assumption, and\n",
    "$$\n",
    "\\mathrm{Var}(\\tau;\\theta) = \\int_0^\\infty \\frac{\\ell\\mathrm{d}\\ell}{2\\pi}\\tilde W(\\ell;\\theta)C_\\tau(\\ell)\n",
    "$$\n",
    "if we measure the variance of $\\tau$ within a filter W with radius $\\theta$. For a circle, or TOPHAT in the manner we cosmologists love, it would be:\n",
    "$$\n",
    "\\mathrm{Var}(\\tau;\\theta) = \\int_0^\\infty \\frac{\\ell\\mathrm{d}\\ell}{2\\pi}\\left[\\frac{2J_1(\\ell\\theta)}{\\ell\\theta}\\right]^2C_\\tau(\\ell)\n",
    "$$"
   ]
  },
  {
   "cell_type": "code",
   "execution_count": null,
   "id": "e799c84a-3676-442e-bf12-d35a56c6ec6a",
   "metadata": {},
   "outputs": [],
   "source": []
  }
 ],
 "metadata": {
  "kernelspec": {
   "display_name": "Python 3 (ipykernel)",
   "language": "python",
   "name": "python3"
  },
  "language_info": {
   "codemirror_mode": {
    "name": "ipython",
    "version": 3
   },
   "file_extension": ".py",
   "mimetype": "text/x-python",
   "name": "python",
   "nbconvert_exporter": "python",
   "pygments_lexer": "ipython3",
   "version": "3.11.9"
  }
 },
 "nbformat": 4,
 "nbformat_minor": 5
}
